{
 "cells": [
  {
   "cell_type": "markdown",
   "metadata": {},
   "source": [
    "# Exploratory Data Analysis"
   ]
  },
  {
   "cell_type": "markdown",
   "metadata": {},
   "source": [
    "We are going to work with a real dataset and do some exploratory data analysis using the skills that you have acquired this week in class. Even with only a basic-level introduction to `pandas`, `seaborn`, and working with Python in the Jupyter Notebook environment, there are a lot of tools we now have at our disposal to be able to answer questions and explore real-world, biological datasets. "
   ]
  },
  {
   "cell_type": "code",
   "execution_count": null,
   "metadata": {},
   "outputs": [],
   "source": [
    "##First thing is first, we need to import the tools that we will need to explore our dataset\n",
    "import pandas as pd\n",
    "import seaborn as sns\n",
    "import numpy as np\n",
    "\n",
    "##We will be making plots using seaborn, but we need some of the matplotlib\n",
    "##function to change figure sizes and do some reformatting\n",
    "import matplotlib.pyplot as plt\n",
    "%matplotlib inline"
   ]
  },
  {
   "cell_type": "markdown",
   "metadata": {},
   "source": [
    "## Loading in Our Dataset"
   ]
  },
  {
   "cell_type": "code",
   "execution_count": null,
   "metadata": {},
   "outputs": [],
   "source": [
    "##We will be working with a gene expression dataset which you can find at the following URL\n",
    "url = \"ftp://ftp.ncbi.nlm.nih.gov/geo/series/GSE69nnn/GSE69360/suppl/GSE69360_RNAseq.counts.txt.gz\"\n",
    "\n",
    "##The file is currently compressed using gzip, which is where the `.gz` comes from, so we need to tell\n",
    "##pandas to handle the file accordingly. This is also a tab delmited dataset, so we need to tell\n",
    "##pandas that the data are separated using the tab, \\t, character\n",
    "gse69360_df = pd.read_csv(url, compression=\"gzip\", delimiter =\"\\t\")"
   ]
  },
  {
   "cell_type": "markdown",
   "metadata": {},
   "source": [
    "Take a look at [this link](https://www.nature.com/articles/sdata201563). Create a markdown cell and summarize some key points about this dataset: where does it come from? How was it generated? What was the goal of creating this resource? It's good to understand a little bit about our dataset before we start working on it?"
   ]
  },
  {
   "cell_type": "markdown",
   "metadata": {},
   "source": [
    "## Taking a look at our dataset"
   ]
  },
  {
   "cell_type": "markdown",
   "metadata": {},
   "source": [
    "What does our dataset look like? Now that we have it loaded into our notebook, we might want to learn a little bit more about the dataset before we start digging into analyzing it. Think about how you can use `pandas` to try the following data exploration tasks on your own."
   ]
  },
  {
   "cell_type": "markdown",
   "metadata": {},
   "source": [
    "### What do the first 20 rows of the dataset look like?"
   ]
  },
  {
   "cell_type": "code",
   "execution_count": null,
   "metadata": {},
   "outputs": [],
   "source": [
    "## Put your code here"
   ]
  },
  {
   "cell_type": "markdown",
   "metadata": {},
   "source": [
    "Erase the content of this cell and make a few notes about what you find interesting about the above dataset."
   ]
  },
  {
   "cell_type": "markdown",
   "metadata": {},
   "source": [
    "### What are the columns of our dataset?"
   ]
  },
  {
   "cell_type": "code",
   "execution_count": null,
   "metadata": {},
   "outputs": [],
   "source": [
    "## Put your code here"
   ]
  },
  {
   "cell_type": "markdown",
   "metadata": {},
   "source": [
    "### Take a subset of this dataset"
   ]
  },
  {
   "cell_type": "markdown",
   "metadata": {},
   "source": [
    "Can you extract the first 5 _rows_ of this dataset and columns _6 through 11_? There isn't necessarily anything particularly interesting about this portion of the dataset, but we wanted to give you some practice indexing and selecting subset of dataframes. Is there something you notice about these specific columns of the dataset, anything they all have in common?"
   ]
  },
  {
   "cell_type": "code",
   "execution_count": null,
   "metadata": {},
   "outputs": [],
   "source": [
    "## Put your code here"
   ]
  },
  {
   "cell_type": "code",
   "execution_count": null,
   "metadata": {},
   "outputs": [],
   "source": [
    "##ANSWER##\n",
    "##The first 20 rows of the dataset\n",
    "gse69360_df.head(20)"
   ]
  },
  {
   "cell_type": "code",
   "execution_count": null,
   "metadata": {},
   "outputs": [],
   "source": [
    "##ANSWER##\n",
    "##Show the columns of our dataset\n",
    "gse69360_df.columns"
   ]
  },
  {
   "cell_type": "code",
   "execution_count": null,
   "metadata": {},
   "outputs": [],
   "source": [
    "##ANSWER##\n",
    "##Firts 5 rows and columns 7 through 10\n",
    "gse69360_df[ gse69360_df.columns[6:12] ].iloc[:5]"
   ]
  },
  {
   "cell_type": "markdown",
   "metadata": {},
   "source": [
    "## Analyzing our dataset"
   ]
  },
  {
   "cell_type": "markdown",
   "metadata": {},
   "source": [
    "We are going to start analyzing and exploring aspects of our dataset. For each task outlined below, try to write the code yourself _first_. If you get stuck, ask for help!"
   ]
  },
  {
   "cell_type": "markdown",
   "metadata": {},
   "source": [
    "### How many of the genes in our dataset are male-specific genes?"
   ]
  },
  {
   "cell_type": "markdown",
   "metadata": {},
   "source": [
    "A couple of hints for this one. For a gene to be male-specific, it has to be a Y chromosome gene, which is labeled as `chrY` in our dataset. There are a couple of ways that you can filter the dataset for this entry, including using a logical statement (`gse69360_df[which column] ? \"chrY\"`) or using a new `pandas` function we haven't talked about before called `isin()` (if you want to try this function, try Googling it and see what it does, or refer back to the [10 minutes to pandas](http://pandas.pydata.org/pandas-docs/stable/getting_started/10min.html) document). Either will work just fine! You may want to look at the [string data documentation](http://pandas.pydata.org/pandas-docs/stable/user_guide/text.html#text-string-methods) of the pandas documentation if you're getting stuck."
   ]
  },
  {
   "cell_type": "code",
   "execution_count": null,
   "metadata": {},
   "outputs": [],
   "source": [
    "## Put your code here"
   ]
  },
  {
   "cell_type": "markdown",
   "metadata": {},
   "source": [
    "### How many genes have a length of 50 or less?"
   ]
  },
  {
   "cell_type": "markdown",
   "metadata": {},
   "source": [
    "Think about what this \"Length\" might be referring to. What do you think a safe intepretation for \"Length\" is?"
   ]
  },
  {
   "cell_type": "code",
   "execution_count": null,
   "metadata": {},
   "outputs": [],
   "source": [
    "## Put your code here"
   ]
  },
  {
   "cell_type": "markdown",
   "metadata": {},
   "source": [
    "### How many male-specific genes have a length of 50 or less?"
   ]
  },
  {
   "cell_type": "markdown",
   "metadata": {},
   "source": [
    "Do this in two steps. First, take all of the male-specific genes and create a new dataframe and call it something descriptive like `gse69360_male_df`. Then filter `gse69360_male_df` by the \"Length\" variable."
   ]
  },
  {
   "cell_type": "code",
   "execution_count": null,
   "metadata": {},
   "outputs": [],
   "source": [
    "## Put your code here"
   ]
  },
  {
   "cell_type": "markdown",
   "metadata": {},
   "source": [
    "### Make a subset of our dataframe that only has columns which contain \"F_\" string and the Geneid"
   ]
  },
  {
   "cell_type": "markdown",
   "metadata": {},
   "source": [
    "This dataframe should have 5 columns, the Geneid and then the four columns which contain an \"F_\" ('AF_Colon', 'AF_Stomach', 'BF_Colon', 'BF_Stomach'). You may want to Google using the `.str.contains()` trick if you haven't yet used it in a previous solution. _Hint:_ Try using the `concat` command to put together one dataframe with just the Geneid information, and then another with the other columns we want."
   ]
  },
  {
   "cell_type": "code",
   "execution_count": null,
   "metadata": {},
   "outputs": [],
   "source": [
    "## Put your code here"
   ]
  },
  {
   "cell_type": "markdown",
   "metadata": {},
   "source": [
    "### Create a subset of our dataset without the following columns:  'Chr', 'Start', 'End', 'Strand', and 'Length'"
   ]
  },
  {
   "cell_type": "markdown",
   "metadata": {},
   "source": [
    "Hint: Look up what the `df.drop()` function does."
   ]
  },
  {
   "cell_type": "code",
   "execution_count": null,
   "metadata": {},
   "outputs": [],
   "source": [
    "## Put your code here"
   ]
  },
  {
   "cell_type": "markdown",
   "metadata": {},
   "source": [
    "### Stringing this together"
   ]
  },
  {
   "cell_type": "markdown",
   "metadata": {},
   "source": [
    "Show the Geneid, Chr, and Length information, as well as the columns that contain an \"A_\" or \"F_\" for male-specific genes or genes with a length of 100 or less. Do this in phases. First, find the male-specific genes, then keep the subset with a length of 100 or less, and then select the columns from there. It may be easier to make multiple dataframes that contains a different component of the data that we want and then concatenate them together."
   ]
  },
  {
   "cell_type": "code",
   "execution_count": null,
   "metadata": {},
   "outputs": [],
   "source": [
    "## Put your code here"
   ]
  },
  {
   "cell_type": "code",
   "execution_count": null,
   "metadata": {},
   "outputs": [],
   "source": [
    "##ANSWER##\n",
    "##There's actually a subtlty to this problem\n",
    "##pandas is going to look for the row in the column to contain\n",
    "##the exact value of \"chrY\". If a gene has a Chr value of \n",
    "##\"chrY;chrY\", it won't find it!, let's compare these two outputs\n",
    "gse69360_df[ gse69360_df[\"Chr\"] == \"chrY\" ].head()"
   ]
  },
  {
   "cell_type": "code",
   "execution_count": null,
   "metadata": {},
   "outputs": [],
   "source": [
    "##ANSWER##\n",
    "##This is a much more accurate result because repeat\n",
    "##labels are still counted. Just goes to show we need to be really\n",
    "##careful about what we ask pandas to find, because it will often\n",
    "##do _exactly_ what we tell it to do, and that\n",
    "##can be a problem\n",
    "gse69360_df[ gse69360_df[\"Chr\"].str.contains(\"chrY\") ].head()"
   ]
  },
  {
   "cell_type": "code",
   "execution_count": null,
   "metadata": {},
   "outputs": [],
   "source": [
    "##ANSWER##\n",
    "##Length of 50 or less\n",
    "gse69360_df[ gse69360_df[\"Length\"] <= 50 ].head()"
   ]
  },
  {
   "cell_type": "code",
   "execution_count": null,
   "metadata": {},
   "outputs": [],
   "source": [
    "##ANSWER##\n",
    "##We break this up into two operations to make it easier on ourselves\n",
    "gse69360_male_df = gse69360_df[ gse69360_df[\"Chr\"].str.contains(\"chrY\") ]\n",
    "gse69360_male_df[ gse69360_male_df[\"Length\"] <= 50]"
   ]
  },
  {
   "cell_type": "code",
   "execution_count": null,
   "metadata": {},
   "outputs": [],
   "source": [
    "##ANSWER##\n",
    "##Get the columns with an \"F_\" in them\n",
    "columns_with_F_ = gse69360_df.columns[ gse69360_df.columns.str.contains(\"F_\") ]\n",
    "\n",
    "##Now select them from dataframe using concatenate\n",
    "pd.concat([gse69360_df[\"Geneid\"], gse69360_df[columns_with_F_ ]], axis = 1).head() ##axis=1 says that both are columns we want to smash together"
   ]
  },
  {
   "cell_type": "code",
   "execution_count": null,
   "metadata": {},
   "outputs": [],
   "source": [
    "##ANSWER##\n",
    "##Or we can do this manually, but this isn't good practice because \n",
    "##it gets us in the habit of doing the work ourselves instead of having\n",
    "##pandas do the work for us\n",
    "gse69360_df[ [\"Geneid\", \"AF_Colon\", \"AF_Stomach\", \"BF_Colon\", \"BF_Stomach\"]].head()"
   ]
  },
  {
   "cell_type": "code",
   "execution_count": null,
   "metadata": {},
   "outputs": [],
   "source": [
    "##ANSWER##\n",
    "##Drop the columns we tell it from the dataframe\n",
    "gse69360_df.drop(['Chr', 'Start', 'End', 'Strand', 'Length'], axis = 1).head()"
   ]
  },
  {
   "cell_type": "code",
   "execution_count": null,
   "metadata": {},
   "outputs": [],
   "source": [
    "##ANSWER##\n",
    "##We have the male specific genes from an earlier examples\n",
    "genes_100_fewer_df = gse69360_df[ gse69360_df[\"Length\"] <= 100]\n",
    "\n",
    "##Concatenate these two together\n",
    "male_100_fewer_df = pd.concat([gse69360_male_df, genes_100_fewer_df])\n",
    "\n",
    "##There may be some overlap because there can be male genes with a length of 100 or less,\n",
    "##So, let's make sure we only represent each gene once\n",
    "male_100_fewer_df = male_100_fewer_df.drop_duplicates() ##you might need to google this one!"
   ]
  },
  {
   "cell_type": "code",
   "execution_count": null,
   "metadata": {},
   "outputs": [],
   "source": [
    "##ANSWER##\n",
    "##Get the columns that contain an A_ or an F_\n",
    "male_100_fewer_A_ = male_100_fewer_df.columns[ male_100_fewer_df.columns.str.contains(\"A_\")]\n",
    "male_100_fewer_F_ = male_100_fewer_df.columns[ male_100_fewer_df.columns.str.contains(\"F_\")]"
   ]
  },
  {
   "cell_type": "code",
   "execution_count": null,
   "metadata": {},
   "outputs": [],
   "source": [
    "##ANSWER##\n",
    "##Stringing it all together!\n",
    "pd.concat([male_100_fewer_df[[\"Geneid\", \"Chr\", \"Length\"]], male_100_fewer_df[male_100_fewer_A_], male_100_fewer_df[male_100_fewer_F_] ], axis = 1).head()"
   ]
  },
  {
   "cell_type": "markdown",
   "metadata": {},
   "source": [
    "## Some More Examples "
   ]
  },
  {
   "cell_type": "markdown",
   "metadata": {},
   "source": [
    "Before we get into exploring this data using visualizations in Seaborn, we need to \"tidy\" up our data. Some of the following code does that, but some cells are meant as additional examples of looking at different aspects of our dataset. For the following, we will provide some code which accomplishes a specific task. Your job is to read through the code and then examine the result and try to explain what the code is doing. You may need to do some additional Google searches for commands that you're not totally familiar with, and as always, ask for help if something is unclear!"
   ]
  },
  {
   "cell_type": "code",
   "execution_count": null,
   "metadata": {},
   "outputs": [],
   "source": [
    "gse69360_df[\"Chr\"].nunique()"
   ]
  },
  {
   "cell_type": "code",
   "execution_count": null,
   "metadata": {},
   "outputs": [],
   "source": [
    "gse69360_df[\"Strand\"].nunique()"
   ]
  },
  {
   "cell_type": "code",
   "execution_count": null,
   "metadata": {},
   "outputs": [],
   "source": [
    "gse69360_df.sort_values(\"Length\").head()"
   ]
  },
  {
   "cell_type": "code",
   "execution_count": null,
   "metadata": {},
   "outputs": [],
   "source": [
    "gse69360_df[[\"Geneid\", \"AA_Colon\", \"AF_Stomach\"]].melt(id_vars=\"Geneid\").head(10)"
   ]
  },
  {
   "cell_type": "code",
   "execution_count": null,
   "metadata": {},
   "outputs": [],
   "source": [
    "gene_expression_w_genes_df = gse69360_df.drop([\"Chr\", \"Start\", \"End\", \"Strand\", \"Length\"], axis =1).drop([\"OA_Stomach2\", \"OA_Stomach3\"], axis = 1).rename(columns = {\"OA_Stomach1\":\"OA_Stomach\"})\n",
    "gene_expression_w_genes_df[\"Geneid\"] = gene_expression_w_genes_df[\"Geneid\"].map(lambda x: x[:-2])"
   ]
  },
  {
   "cell_type": "code",
   "execution_count": null,
   "metadata": {},
   "outputs": [],
   "source": [
    "gene_expression_w_genes_df.iloc[:, 1:] = gene_expression_w_genes_df.iloc[:, 1:].apply(lambda x: np.log2((x*(1e+6)/sum(x))+1))"
   ]
  },
  {
   "cell_type": "code",
   "execution_count": null,
   "metadata": {},
   "outputs": [],
   "source": [
    "gene_expression_w_genes_df.head()"
   ]
  },
  {
   "cell_type": "code",
   "execution_count": null,
   "metadata": {},
   "outputs": [],
   "source": [
    "tidy_gene_expression_df = gene_expression_w_genes_df.melt(id_vars=\"Geneid\").rename(columns={\"variable\":\"Sample\", \"value\":\"Logcpm\"})"
   ]
  },
  {
   "cell_type": "code",
   "execution_count": null,
   "metadata": {},
   "outputs": [],
   "source": [
    "tidy_gene_expression_df[\"Sample\"] = tidy_gene_expression_df[\"Sample\"].apply(lambda x: x.replace(\" \", \"\"))"
   ]
  },
  {
   "cell_type": "code",
   "execution_count": null,
   "metadata": {},
   "outputs": [],
   "source": [
    "tidy_gene_expression_df[\"Source\"] = tidy_gene_expression_df[\"Sample\"].apply(lambda x: x[0])"
   ]
  },
  {
   "cell_type": "code",
   "execution_count": null,
   "metadata": {},
   "outputs": [],
   "source": [
    "tidy_gene_expression_df[\"Stage\"] = tidy_gene_expression_df[\"Sample\"].apply(lambda x: \"Adult\" if x[1] == \"A\" else \"Fetus\")"
   ]
  },
  {
   "cell_type": "code",
   "execution_count": null,
   "metadata": {},
   "outputs": [],
   "source": [
    "tidy_gene_expression_df[\"Tissue\"] = tidy_gene_expression_df[\"Sample\"].apply(lambda x: x[3:])"
   ]
  },
  {
   "cell_type": "code",
   "execution_count": null,
   "metadata": {},
   "outputs": [],
   "source": [
    "tidy_gene_expression_df.head()"
   ]
  },
  {
   "cell_type": "markdown",
   "metadata": {},
   "source": [
    "These last few steps have been trying to \"tidy\" up our dataset. Tidy data refers to a particular structure where each row represents a different observation for a particular sample. For our dataset, gene \"ENSG00000223972\" will have several rows associated with, each is the Logcpm for a different tissue."
   ]
  },
  {
   "cell_type": "code",
   "execution_count": null,
   "metadata": {},
   "outputs": [],
   "source": [
    "tidy_gene_expression_df[ tidy_gene_expression_df[\"Geneid\"] == \"ENSG00000223972\"]"
   ]
  },
  {
   "cell_type": "code",
   "execution_count": null,
   "metadata": {},
   "outputs": [],
   "source": [
    "tidy_gene_expression_df.describe()"
   ]
  },
  {
   "cell_type": "markdown",
   "metadata": {},
   "source": [
    "This particular data format is going to be really useful for creating some summary visualizations using seaborn!"
   ]
  },
  {
   "cell_type": "markdown",
   "metadata": {},
   "source": [
    "## Using Seaborn Now that our Data is \"Tidy\""
   ]
  },
  {
   "cell_type": "markdown",
   "metadata": {},
   "source": [
    "We are now going to use seaborn to create some visualizations. Primarily, we are going to be looking at the `Logcpm` values in a few different contexts. By doing so, we hope to demonstrate one of the most frustrating and challenging parts of working with gene expression datasets. Discuss these plots with those around you and create a markdown cell below each plot to jot down notes from your discussions."
   ]
  },
  {
   "cell_type": "code",
   "execution_count": null,
   "metadata": {},
   "outputs": [],
   "source": [
    "plt.figure(figsize = (14,9))\n",
    "sns.catplot(x = \"Sample\", \n",
    "            y = \"Logcpm\", \n",
    "            hue = \"Tissue\",\n",
    "           data = tidy_gene_expression_df)\n",
    "plt.xticks(rotation=90);"
   ]
  },
  {
   "cell_type": "code",
   "execution_count": null,
   "metadata": {},
   "outputs": [],
   "source": [
    "plt.figure(figsize = (14,9))\n",
    "sns.violinplot(y = \"Tissue\",\n",
    "               x = \"Logcpm\",\n",
    "               data = tidy_gene_expression_df)"
   ]
  },
  {
   "cell_type": "code",
   "execution_count": null,
   "metadata": {},
   "outputs": [],
   "source": [
    "sns.stripplot(x=\"Logcpm\", \n",
    "              y=\"Source\", \n",
    "              hue=\"Stage\",\n",
    "              data=tidy_gene_expression_df, \n",
    "              dodge=True, \n",
    "              jitter=True,\n",
    "              alpha=.25)"
   ]
  },
  {
   "cell_type": "code",
   "execution_count": null,
   "metadata": {},
   "outputs": [],
   "source": [
    "sns.boxplot(x = \"Tissue\",\n",
    "           y = \"Logcpm\",\n",
    "           hue = \"Stage\",\n",
    "           data = tidy_gene_expression_df)"
   ]
  },
  {
   "cell_type": "code",
   "execution_count": null,
   "metadata": {},
   "outputs": [],
   "source": [
    "sns.distplot(tidy_gene_expression_df[\"Logcpm\"])"
   ]
  },
  {
   "cell_type": "code",
   "execution_count": null,
   "metadata": {},
   "outputs": [],
   "source": [
    "sns.heatmap(gene_expression_w_genes_df.iloc[:,1:])"
   ]
  },
  {
   "cell_type": "markdown",
   "metadata": {},
   "source": [
    "Make a markdown cell below and discuss one of the primary conclusions that you have come to based on the above figures. What can we say about the distribution of the log of the counts per million for the genes in our dataset? Is this a surprising results? What could be done in order to get more interesting results from this dataset? Specifically, which genes should be be paying attention to in future analyses?"
   ]
  },
  {
   "cell_type": "markdown",
   "metadata": {},
   "source": [
    "## Now, go crazy! "
   ]
  },
  {
   "cell_type": "markdown",
   "metadata": {},
   "source": [
    "We've walked through how to do some basic analysis, manipulation, and visualization of this dataset. Using the rest of the time you have for today, think about an interesting question that you could pose and answer using this dataset. For example: are there any correlations between gene expression for different tissue types? If there are, do they make sense? What would these plots look like if we only looked at the genes in the top 75 percent based on their expression? What kinds of differences are there between infant and adult gene expressions? Once you have your question, try using some of the tools you have learned about this week and try to answer your question. You should try using various pandas function to analyze and manipulate our gene expression dataset as well as making a few plots using seaborn. Make markdown cells along the way to talk through your code and interpret your results. Feel free to share the work you've done in this section with your classmates! "
   ]
  },
  {
   "cell_type": "code",
   "execution_count": null,
   "metadata": {},
   "outputs": [],
   "source": [
    "## Put your code here"
   ]
  }
 ],
 "metadata": {
  "kernelspec": {
   "display_name": "Python [default]",
   "language": "python",
   "name": "python3"
  },
  "language_info": {
   "codemirror_mode": {
    "name": "ipython",
    "version": 3
   },
   "file_extension": ".py",
   "mimetype": "text/x-python",
   "name": "python",
   "nbconvert_exporter": "python",
   "pygments_lexer": "ipython3",
   "version": "3.5.4"
  }
 },
 "nbformat": 4,
 "nbformat_minor": 2
}
